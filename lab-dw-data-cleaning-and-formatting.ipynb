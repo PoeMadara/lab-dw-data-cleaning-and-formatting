{
  "cells": [
    {
      "cell_type": "markdown",
      "id": "25d7736c-ba17-4aff-b6bb-66eba20fbf4e",
      "metadata": {
        "id": "25d7736c-ba17-4aff-b6bb-66eba20fbf4e"
      },
      "source": [
        "# Lab | Data Cleaning and Formatting"
      ]
    },
    {
      "cell_type": "markdown",
      "id": "d1973e9e-8be6-4039-b70e-d73ee0d94c99",
      "metadata": {
        "id": "d1973e9e-8be6-4039-b70e-d73ee0d94c99"
      },
      "source": [
        "In this lab, we will be working with the customer data from an insurance company, which can be found in the CSV file located at the following link: https://raw.githubusercontent.com/data-bootcamp-v4/data/main/file1.csv\n"
      ]
    },
    {
      "cell_type": "markdown",
      "id": "31b8a9e7-7db9-4604-991b-ef6771603e57",
      "metadata": {
        "id": "31b8a9e7-7db9-4604-991b-ef6771603e57"
      },
      "source": [
        "# Challenge 1: Data Cleaning and Formatting"
      ]
    },
    {
      "cell_type": "markdown",
      "id": "81553f19-9f2c-484b-8940-520aff884022",
      "metadata": {
        "id": "81553f19-9f2c-484b-8940-520aff884022"
      },
      "source": [
        "## Exercise 1: Cleaning Column Names"
      ]
    },
    {
      "cell_type": "markdown",
      "id": "34a929f4-1be4-4fa8-adda-42ffd920be90",
      "metadata": {
        "id": "34a929f4-1be4-4fa8-adda-42ffd920be90"
      },
      "source": [
        "To ensure consistency and ease of use, standardize the column names of the dataframe. Start by taking a first look at the dataframe and identifying any column names that need to be modified. Use appropriate naming conventions and make sure that column names are descriptive and informative.\n",
        "\n",
        "*Hint*:\n",
        "- *Column names should be in lower case*\n",
        "- *White spaces in column names should be replaced by `_`*\n",
        "- *`st` could be replaced for `state`*"
      ]
    },
    {
      "cell_type": "code",
      "execution_count": null,
      "id": "5810735c-8056-4442-bbf2-dda38d3e284a",
      "metadata": {
        "id": "5810735c-8056-4442-bbf2-dda38d3e284a"
      },
      "outputs": [],
      "source": [
        "# Your code here\n",
        "\n",
        "import pandas as pd\n",
        "\n",
        "url = \"https://raw.githubusercontent.com/data-bootcamp-v4/data/main/file1.csv\"\n",
        "\n",
        "db = pd.read_csv(url)\n",
        "db.rename(columns={\"ST\": \"State\"}, inplace=True)\n",
        "db.columns = db.columns.str.lower()\n",
        "db.columns = db.columns.str.replace(\" \", \"_\")\n",
        "db.head(10)"
      ]
    },
    {
      "cell_type": "markdown",
      "id": "9cb501ec-36ff-4589-b872-6252bb150316",
      "metadata": {
        "id": "9cb501ec-36ff-4589-b872-6252bb150316"
      },
      "source": [
        "## Exercise 2: Cleaning invalid Values"
      ]
    },
    {
      "cell_type": "markdown",
      "id": "771fdcf3-8e20-4b06-9c24-3a93ba2b0909",
      "metadata": {
        "id": "771fdcf3-8e20-4b06-9c24-3a93ba2b0909"
      },
      "source": [
        "The dataset contains columns with inconsistent and incorrect values that could affect the accuracy of our analysis. Therefore, we need to clean these columns to ensure that they only contain valid data.\n",
        "\n",
        "Note that this exercise will focus only on cleaning inconsistent values and will not involve handling null values (NaN or None).\n",
        "\n",
        "*Hint*:\n",
        "- *Gender column contains various inconsistent values such as \"F\", \"M\", \"Femal\", \"Male\", \"female\", which need to be standardized, for example, to \"M\" and \"F\".*\n",
        "- *State abbreviations be can replaced with its full name, for example \"AZ\": \"Arizona\", \"Cali\": \"California\", \"WA\": \"Washington\"*\n",
        "- *In education, \"Bachelors\" could be replaced by \"Bachelor\"*\n",
        "- *In Customer Lifetime Value, delete the `%` character*\n",
        "- *In vehicle class, \"Sports Car\", \"Luxury SUV\" and \"Luxury Car\" could be replaced by \"Luxury\"*"
      ]
    },
    {
      "cell_type": "code",
      "execution_count": null,
      "id": "3f8ee5cb-50ab-48af-8a9f-9a389804033c",
      "metadata": {
        "id": "3f8ee5cb-50ab-48af-8a9f-9a389804033c"
      },
      "outputs": [],
      "source": [
        "import pandas as pd\n",
        "\n",
        "url = \"https://raw.githubusercontent.com/data-bootcamp-v4/data/main/file1.csv\"\n",
        "\n",
        "db = pd.read_csv(url)\n",
        "db.rename(columns={\"ST\": \"State\"}, inplace=True)\n",
        "db.columns = db.columns.str.lower()\n",
        "db.columns = db.columns.str.replace(\" \", \"_\")\n",
        "\n",
        "\n",
        "# gender\n",
        "\n",
        "unique_values_gender = db[\"gender\"].unique()\n",
        "print(unique_values_gender)\n",
        "\n",
        "gender_map = {\n",
        "    'F': 'F',\n",
        "    'Femal': 'F',\n",
        "    'female': 'F',\n",
        "    'M': 'M',\n",
        "    'Male': 'M'\n",
        "}\n",
        "\n",
        "db['gender'] = db['gender'].replace(gender_map)\n",
        "print(db['gender'].unique())\n",
        "\n",
        "# state\n",
        "\n",
        "unique_values_state = db[\"state\"].unique()\n",
        "print(unique_values_state)\n",
        "\n",
        "state_map = {\n",
        "    'Washington': 'Washington',\n",
        "    'WA': 'Washington',\n",
        "    'Arizona': 'Arizona',\n",
        "    'AZ': 'Arizona',\n",
        "    'California': 'California',\n",
        "    'Cali': 'California',\n",
        "}\n",
        "\n",
        "db['state'] = db['state'].replace(state_map)\n",
        "print(db['state'].unique())\n",
        "\n",
        "# education\n",
        "\n",
        "unique_values_education = db[\"education\"].unique()\n",
        "print(unique_values_education)\n",
        "\n",
        "education_map = {\n",
        "    'High School or Below': 'High School or Below',\n",
        "    'Bachelors': 'Bachelor',\n",
        "    'Master': 'Master',\n",
        "    'Doctor': 'Doctor',\n",
        "    'College ': 'College',\n",
        "    ' Bachelor': 'Bachelor',\n",
        "}\n",
        "\n",
        "db['education'] = db['education'].replace(education_map)\n",
        "print(db['education'].unique())\n",
        "\n",
        "# customer_lifetime_value\n",
        "\n",
        "db['customer_lifetime_value'] = db['customer_lifetime_value'].str.rstrip('%')\n",
        "\n",
        "# vehicle_class\n",
        "\n",
        "unique_values_vehicle_class = db[\"vehicle_class\"].unique()\n",
        "print(unique_values_vehicle_class)\n",
        "\n",
        "vehicle_class_map = {\n",
        "    'Sports Car': 'Luxury',\n",
        "    'Luxury SUV': 'Luxury',\n",
        "    'Luxury Car': 'Luxury'\n",
        "}\n",
        "\n",
        "db['vehicle_class'] = db['vehicle_class'].replace(vehicle_class_map)\n",
        "print(db['vehicle_class'].unique())\n",
        "\n",
        "db.head(50)\n"
      ]
    },
    {
      "cell_type": "markdown",
      "id": "85ff78ce-0174-4890-9db3-8048b7d7d2d0",
      "metadata": {
        "id": "85ff78ce-0174-4890-9db3-8048b7d7d2d0"
      },
      "source": [
        "## Exercise 3: Formatting data types"
      ]
    },
    {
      "cell_type": "markdown",
      "id": "b91c2cf8-79a2-4baf-9f65-ff2fb22270bd",
      "metadata": {
        "id": "b91c2cf8-79a2-4baf-9f65-ff2fb22270bd"
      },
      "source": [
        "The data types of many columns in the dataset appear to be incorrect. This could impact the accuracy of our analysis. To ensure accurate analysis, we need to correct the data types of these columns. Please update the data types of the columns as appropriate."
      ]
    },
    {
      "cell_type": "markdown",
      "id": "43e5d853-ff9e-43b2-9d92-aef2f78764f3",
      "metadata": {
        "id": "43e5d853-ff9e-43b2-9d92-aef2f78764f3"
      },
      "source": [
        "It is important to note that this exercise does not involve handling null values (NaN or None)."
      ]
    },
    {
      "cell_type": "markdown",
      "id": "329ca691-9196-4419-8969-3596746237a1",
      "metadata": {
        "id": "329ca691-9196-4419-8969-3596746237a1"
      },
      "source": [
        "*Hint*:\n",
        "- *Customer lifetime value should be numeric*\n",
        "- *Number of open complaints has an incorrect format. Look at the different values it takes with `unique()` and take the middle value. As an example, 1/5/00 should be 5. Number of open complaints is a string - remember you can use `split()` to deal with it and take the number you need. Finally, since it should be numeric, cast the column to be in its proper type.*"
      ]
    },
    {
      "cell_type": "code",
      "execution_count": null,
      "id": "eb8f5991-73e9-405f-bf1c-6b7c589379a9",
      "metadata": {
        "id": "eb8f5991-73e9-405f-bf1c-6b7c589379a9"
      },
      "outputs": [],
      "source": [
        "import pandas as pd\n",
        "\n",
        "url = \"https://raw.githubusercontent.com/data-bootcamp-v4/data/main/file1.csv\"\n",
        "\n",
        "db = pd.read_csv(url)\n",
        "db.rename(columns={\"ST\": \"State\"}, inplace=True)\n",
        "db.columns = db.columns.str.lower()\n",
        "db.columns = db.columns.str.replace(\" \", \"_\")\n",
        "\n",
        "# gender\n",
        "unique_values_gender = db[\"gender\"].unique()\n",
        "print(unique_values_gender)\n",
        "\n",
        "gender_map = {\n",
        "    'F': 'F',\n",
        "    'Femal': 'F',\n",
        "    'female': 'F',\n",
        "    'M': 'M',\n",
        "    'Male': 'M'\n",
        "}\n",
        "\n",
        "db['gender'] = db['gender'].replace(gender_map)\n",
        "print(db['gender'].unique())\n",
        "\n",
        "# state\n",
        "unique_values_state = db[\"state\"].unique()\n",
        "print(unique_values_state)\n",
        "\n",
        "state_map = {\n",
        "    'Washington': 'Washington',\n",
        "    'WA': 'Washington',\n",
        "    'Arizona': 'Arizona',\n",
        "    'AZ': 'Arizona',\n",
        "    'California': 'California',\n",
        "    'Cali': 'California',\n",
        "}\n",
        "\n",
        "db['state'] = db['state'].replace(state_map)\n",
        "print(db['state'].unique())\n",
        "\n",
        "# education\n",
        "unique_values_education = db[\"education\"].unique()\n",
        "print(unique_values_education)\n",
        "\n",
        "education_map = {\n",
        "    'High School or Below': 'High School or Below',\n",
        "    'Bachelors': 'Bachelor',\n",
        "    'Master': 'Master',\n",
        "    'Doctor': 'Doctor',\n",
        "    'College ': 'College',\n",
        "    ' Bachelor': 'Bachelor',\n",
        "}\n",
        "\n",
        "db['education'] = db['education'].replace(education_map)\n",
        "print(db['education'].unique())\n",
        "\n",
        "# customer_lifetime_value\n",
        "db['customer_lifetime_value'] = db['customer_lifetime_value'].str.rstrip('%').astype(float)\n",
        "\n",
        "# number_of_open_complaints\n",
        "def extract_complaints(value):\n",
        "    try:\n",
        "        return int(value.split('/')[1])\n",
        "    except (IndexError, ValueError):\n",
        "        return 0\n",
        "\n",
        "db['number_of_open_complaints'] = db['number_of_open_complaints'].astype(str)\n",
        "db['number_of_open_complaints'] = db['number_of_open_complaints'].apply(extract_complaints)\n",
        "\n",
        "# vehicle_class\n",
        "unique_values_vehicle_class = db[\"vehicle_class\"].unique()\n",
        "print(unique_values_vehicle_class)\n",
        "\n",
        "vehicle_class_map = {\n",
        "    'Sports Car': 'Luxury',\n",
        "    'Luxury SUV': 'Luxury',\n",
        "    'Luxury Car': 'Luxury'\n",
        "}\n",
        "\n",
        "db['vehicle_class'] = db['vehicle_class'].replace(vehicle_class_map)\n",
        "print(db['vehicle_class'].unique())\n",
        "\n",
        "db.head(20)\n"
      ]
    },
    {
      "cell_type": "markdown",
      "id": "14c52e28-2d0c-4dd2-8bd5-3476e34fadc1",
      "metadata": {
        "id": "14c52e28-2d0c-4dd2-8bd5-3476e34fadc1"
      },
      "source": [
        "## Exercise 4: Dealing with Null values"
      ]
    },
    {
      "cell_type": "markdown",
      "id": "34b9a20f-7d32-4417-975e-1b4dfb0e16cd",
      "metadata": {
        "id": "34b9a20f-7d32-4417-975e-1b4dfb0e16cd"
      },
      "source": [
        "Identify any columns with null or missing values. Identify how many null values each column has. You can use the `isnull()` function in pandas to find columns with null values.\n",
        "\n",
        "Decide on a strategy for handling the null values. There are several options, including:\n",
        "\n",
        "- Drop the rows or columns with null values\n",
        "- Fill the null values with a specific value (such as the column mean or median for numerical variables, and mode for categorical variables)\n",
        "- Fill the null values with the previous or next value in the column\n",
        "- Fill the null values based on a more complex algorithm or model (note: we haven't covered this yet)\n",
        "\n",
        "Implement your chosen strategy to handle the null values. You can use the `fillna()` function in pandas to fill null values or `dropna()` function to drop null values.\n",
        "\n",
        "Verify that your strategy has successfully handled the null values. You can use the `isnull()` function again to check if there are still null values in the dataset.\n",
        "\n",
        "Remember to document your process and explain your reasoning for choosing a particular strategy for handling null values.\n",
        "\n",
        "After formatting data types, as a last step, convert all the numeric variables to integers."
      ]
    },
    {
      "cell_type": "code",
      "execution_count": null,
      "id": "f184fc35-7831-4836-a0a5-e7f99e01b40e",
      "metadata": {
        "id": "f184fc35-7831-4836-a0a5-e7f99e01b40e"
      },
      "outputs": [],
      "source": [
        "# Your code here\n",
        "\n",
        "import pandas as pd\n",
        "\n",
        "url = \"https://raw.githubusercontent.com/data-bootcamp-v4/data/main/file1.csv\"\n",
        "\n",
        "db = pd.read_csv(url)\n",
        "db.rename(columns={\"ST\": \"State\"}, inplace=True)\n",
        "db.columns = db.columns.str.lower()\n",
        "db.columns = db.columns.str.replace(\" \", \"_\")\n",
        "\n",
        "# gender\n",
        "unique_values_gender = db[\"gender\"].unique()\n",
        "print(unique_values_gender)\n",
        "\n",
        "gender_map = {\n",
        "    'F': 'F',\n",
        "    'Femal': 'F',\n",
        "    'female': 'F',\n",
        "    'M': 'M',\n",
        "    'Male': 'M'\n",
        "}\n",
        "\n",
        "db['gender'] = db['gender'].replace(gender_map)\n",
        "print(db['gender'].unique())\n",
        "\n",
        "# state\n",
        "unique_values_state = db[\"state\"].unique()\n",
        "print(unique_values_state)\n",
        "\n",
        "state_map = {\n",
        "    'Washington': 'Washington',\n",
        "    'WA': 'Washington',\n",
        "    'Arizona': 'Arizona',\n",
        "    'AZ': 'Arizona',\n",
        "    'California': 'California',\n",
        "    'Cali': 'California',\n",
        "}\n",
        "\n",
        "db['state'] = db['state'].replace(state_map)\n",
        "print(db['state'].unique())\n",
        "\n",
        "# education\n",
        "unique_values_education = db[\"education\"].unique()\n",
        "print(unique_values_education)\n",
        "\n",
        "education_map = {\n",
        "    'High School or Below': 'High School or Below',\n",
        "    'Bachelors': 'Bachelor',\n",
        "    'Master': 'Master',\n",
        "    'Doctor': 'Doctor',\n",
        "    'College ': 'College',\n",
        "    ' Bachelor': 'Bachelor',\n",
        "}\n",
        "\n",
        "db['education'] = db['education'].replace(education_map)\n",
        "print(db['education'].unique())\n",
        "\n",
        "# customer_lifetime_value\n",
        "db['customer_lifetime_value'] = db['customer_lifetime_value'].str.rstrip('%').astype(float)\n",
        "\n",
        "# number_of_open_complaints\n",
        "def extract_complaints(value):\n",
        "    try:\n",
        "        return int(value.split('/')[1])\n",
        "    except (IndexError, ValueError):\n",
        "        return 0\n",
        "\n",
        "db['number_of_open_complaints'] = db['number_of_open_complaints'].astype(str)\n",
        "db['number_of_open_complaints'] = db['number_of_open_complaints'].apply(extract_complaints)\n",
        "\n",
        "# vehicle_class\n",
        "unique_values_vehicle_class = db[\"vehicle_class\"].unique()\n",
        "print(unique_values_vehicle_class)\n",
        "\n",
        "vehicle_class_map = {\n",
        "    'Sports Car': 'Luxury',\n",
        "    'Luxury SUV': 'Luxury',\n",
        "    'Luxury Car': 'Luxury'\n",
        "}\n",
        "\n",
        "db['vehicle_class'] = db['vehicle_class'].replace(vehicle_class_map)\n",
        "print(db['vehicle_class'].unique())\n",
        "\n",
        "# Identify columns with null values\n",
        "null_values = db.isnull().sum()\n",
        "print(null_values)\n",
        "\n",
        "\n",
        "# For the following strategy, i will fill numerical null values with the column mean and categorical null values with the mode\n",
        "\n",
        "# Fill numerical null values with column mean\n",
        "numerical_columns = db.select_dtypes(include=['float64', 'int64']).columns\n",
        "db[numerical_columns] = db[numerical_columns].fillna(db[numerical_columns].mean())\n",
        "\n",
        "# Fill categorical null values with mode\n",
        "categorical_columns = db.select_dtypes(include=['object']).columns\n",
        "db[categorical_columns] = db[categorical_columns].apply(lambda x: x.fillna(x.mode()[0]))\n",
        "\n",
        "# Verify that null values have been handled\n",
        "null_values_after = db.isnull().sum()\n",
        "print(null_values_after)\n",
        "\n",
        "# Convert all numeric variables to integers\n",
        "db[numerical_columns] = db[numerical_columns].astype(int)\n",
        "\n",
        "db.head(20)\n"
      ]
    },
    {
      "cell_type": "markdown",
      "id": "98416351-e999-4156-9834-9b00a311adfa",
      "metadata": {
        "id": "98416351-e999-4156-9834-9b00a311adfa"
      },
      "source": [
        "## Exercise 5: Dealing with duplicates"
      ]
    },
    {
      "cell_type": "markdown",
      "id": "ea0816a7-a18e-4d4c-b667-a8452a800bd1",
      "metadata": {
        "id": "ea0816a7-a18e-4d4c-b667-a8452a800bd1"
      },
      "source": [
        "Use the `.duplicated()` method to identify any duplicate rows in the dataframe.\n",
        "\n",
        "Decide on a strategy for handling the duplicates. Options include:\n",
        "- Dropping all duplicate rows\n",
        "- Keeping only the first occurrence of each duplicated row\n",
        "- Keeping only the last occurrence of each duplicated row\n",
        "- Dropping duplicates based on a subset of columns\n",
        "- Dropping duplicates based on a specific column\n",
        "\n",
        "Implement your chosen strategy using the `drop_duplicates()` function.\n",
        "\n",
        "Verify that your strategy has successfully handled the duplicates by checking for duplicates again using `.duplicated()`.\n",
        "\n",
        "Remember to document your process and explain your reasoning for choosing a particular strategy for handling duplicates.\n",
        "\n",
        "Save the cleaned dataset to a new CSV file.\n",
        "\n",
        "*Hint*: *after dropping duplicates, reset the index to ensure consistency*."
      ]
    },
    {
      "cell_type": "code",
      "execution_count": null,
      "id": "1929362c-47ed-47cb-baca-358b78d401a0",
      "metadata": {
        "id": "1929362c-47ed-47cb-baca-358b78d401a0"
      },
      "outputs": [],
      "source": [
        "# Your code here\n",
        "\n",
        "import pandas as pd\n",
        "\n",
        "url = \"https://raw.githubusercontent.com/data-bootcamp-v4/data/main/file1.csv\"\n",
        "\n",
        "db = pd.read_csv(url)\n",
        "db.rename(columns={\"ST\": \"State\"}, inplace=True)\n",
        "db.columns = db.columns.str.lower()\n",
        "db.columns = db.columns.str.replace(\" \", \"_\")\n",
        "\n",
        "# gender\n",
        "unique_values_gender = db[\"gender\"].unique()\n",
        "print(unique_values_gender)\n",
        "\n",
        "gender_map = {\n",
        "    'F': 'F',\n",
        "    'Femal': 'F',\n",
        "    'female': 'F',\n",
        "    'M': 'M',\n",
        "    'Male': 'M'\n",
        "}\n",
        "\n",
        "db['gender'] = db['gender'].replace(gender_map)\n",
        "print(db['gender'].unique())\n",
        "\n",
        "# state\n",
        "unique_values_state = db[\"state\"].unique()\n",
        "print(unique_values_state)\n",
        "\n",
        "state_map = {\n",
        "    'Washington': 'Washington',\n",
        "    'WA': 'Washington',\n",
        "    'Arizona': 'Arizona',\n",
        "    'AZ': 'Arizona',\n",
        "    'California': 'California',\n",
        "    'Cali': 'California',\n",
        "}\n",
        "\n",
        "db['state'] = db['state'].replace(state_map)\n",
        "print(db['state'].unique())\n",
        "\n",
        "# education\n",
        "unique_values_education = db[\"education\"].unique()\n",
        "print(unique_values_education)\n",
        "\n",
        "education_map = {\n",
        "    'High School or Below': 'High School or Below',\n",
        "    'Bachelors': 'Bachelor',\n",
        "    'Master': 'Master',\n",
        "    'Doctor': 'Doctor',\n",
        "    'College ': 'College',\n",
        "    ' Bachelor': 'Bachelor',\n",
        "}\n",
        "\n",
        "db['education'] = db['education'].replace(education_map)\n",
        "print(db['education'].unique())\n",
        "\n",
        "# customer_lifetime_value\n",
        "db['customer_lifetime_value'] = db['customer_lifetime_value'].str.rstrip('%').astype(float)\n",
        "\n",
        "# number_of_open_complaints\n",
        "def extract_complaints(value):\n",
        "    try:\n",
        "        return int(value.split('/')[1])\n",
        "    except (IndexError, ValueError):\n",
        "        return 0\n",
        "\n",
        "db['number_of_open_complaints'] = db['number_of_open_complaints'].astype(str)\n",
        "db['number_of_open_complaints'] = db['number_of_open_complaints'].apply(extract_complaints)\n",
        "\n",
        "# vehicle_class\n",
        "unique_values_vehicle_class = db[\"vehicle_class\"].unique()\n",
        "print(unique_values_vehicle_class)\n",
        "\n",
        "vehicle_class_map = {\n",
        "    'Sports Car': 'Luxury',\n",
        "    'Luxury SUV': 'Luxury',\n",
        "    'Luxury Car': 'Luxury'\n",
        "}\n",
        "\n",
        "db['vehicle_class'] = db['vehicle_class'].replace(vehicle_class_map)\n",
        "print(db['vehicle_class'].unique())\n",
        "\n",
        "# Identify columns with null values\n",
        "null_values = db.isnull().sum()\n",
        "print(null_values)\n",
        "\n",
        "# For the following strategy, i will fill numerical null values with the column mean and categorical null values with the mode\n",
        "\n",
        "# Fill numerical null values with column mean\n",
        "numerical_columns = db.select_dtypes(include=['float64', 'int64']).columns\n",
        "db[numerical_columns] = db[numerical_columns].fillna(db[numerical_columns].mean())\n",
        "\n",
        "# Fill categorical null values with mode\n",
        "categorical_columns = db.select_dtypes(include=['object']).columns\n",
        "db[categorical_columns] = db[categorical_columns].apply(lambda x: x.fillna(x.mode()[0]))\n",
        "\n",
        "# Verify that null values have been handled\n",
        "null_values_after = db.isnull().sum()\n",
        "print(null_values_after)\n",
        "\n",
        "# Convert all numeric variables to integers\n",
        "db[numerical_columns] = db[numerical_columns].astype(int)\n",
        "\n",
        "# Identify duplicate rows\n",
        "duplicates = db.duplicated()\n",
        "print(duplicates.sum())\n",
        "\n",
        "# For the next strategy, i will drop all rows that are duplicates\n",
        "\n",
        "# Drop all duplicate rows\n",
        "db = db.drop_duplicates()\n",
        "\n",
        "# Verify that duplicates have been handled\n",
        "duplicates_after = db.duplicated()\n",
        "print(duplicates_after.sum())\n",
        "\n",
        "# Reset the index\n",
        "db = db.reset_index(drop=True)\n",
        "\n",
        "# Save the cleaned dataset to a new CSV file\n",
        "db.to_csv('cleaned_data.csv', index=False)\n",
        "\n",
        "db.head(20)"
      ]
    },
    {
      "cell_type": "markdown",
      "id": "60840701-4783-40e2-b4d8-55303f9100c9",
      "metadata": {
        "id": "60840701-4783-40e2-b4d8-55303f9100c9"
      },
      "source": [
        "# Bonus: Challenge 2: creating functions on a separate `py` file"
      ]
    },
    {
      "cell_type": "markdown",
      "id": "9d1adb3a-17cf-4899-8041-da21a4337fb4",
      "metadata": {
        "id": "9d1adb3a-17cf-4899-8041-da21a4337fb4"
      },
      "source": [
        "Put all the data cleaning and formatting steps into functions, and create a main function that performs all the cleaning and formatting.\n",
        "\n",
        "Write these functions in separate .py file(s). By putting these steps into functions, we can make the code more modular and easier to maintain."
      ]
    },
    {
      "cell_type": "markdown",
      "id": "0e170dc2-b62c-417a-8248-e63ed18a70c4",
      "metadata": {
        "id": "0e170dc2-b62c-417a-8248-e63ed18a70c4"
      },
      "source": [
        "*Hint: autoreload module is a utility module in Python that allows you to automatically reload modules in the current session when changes are made to the source code. This can be useful in situations where you are actively developing code and want to see the effects of changes you make without having to constantly restart the Python interpreter or Jupyter Notebook kernel.*"
      ]
    },
    {
      "cell_type": "code",
      "execution_count": null,
      "id": "a52c6dfc-cd11-4d01-bda4-f719fa33e9a4",
      "metadata": {
        "id": "a52c6dfc-cd11-4d01-bda4-f719fa33e9a4"
      },
      "outputs": [],
      "source": [
        "# Your code here\n",
        "\n",
        "import pandas as pd\n",
        "from functions import (load_data, clean_gender, clean_state, clean_education, clean_customer_lifetime_value,\n",
        "                       clean_number_of_open_complaints, clean_vehicle_class, handle_null_values, handle_duplicates,\n",
        "                       save_cleaned_data)\n",
        "\n",
        "url = \"https://raw.githubusercontent.com/data-bootcamp-v4/data/main/file1.csv\"\n",
        "\n",
        "# Load data\n",
        "db = load_data(url)\n",
        "\n",
        "# Clean data\n",
        "db = clean_gender(db)\n",
        "db = clean_state(db)\n",
        "db = clean_education(db)\n",
        "db = clean_customer_lifetime_value(db)\n",
        "db = clean_number_of_open_complaints(db)\n",
        "db = clean_vehicle_class(db)\n",
        "\n",
        "# Handle null values\n",
        "db = handle_null_values(db)\n",
        "\n",
        "# Handle duplicates\n",
        "db = handle_duplicates(db)\n",
        "\n",
        "# Save cleaned data\n",
        "save_cleaned_data(db)\n",
        "\n",
        "# Ask user if they want to see the table\n",
        "try:\n",
        "    show_table = input(\"Do you want to see the first 50 rows of the cleaned table? (Y/N): \").strip().upper()\n",
        "    if show_table == 'Y':\n",
        "        print(db.head(50))\n",
        "    elif show_table == 'N':\n",
        "        print(\"Table display skipped.\")\n",
        "    else:\n",
        "        print(\"Invalid input. Please enter 'Y' or 'N'.\")\n",
        "except Exception as e:\n",
        "    print(f\"An error occurred: {e}\")\n",
        "\n",
        "    # Save the cleaned dataset to a new CSV file\n",
        "db.to_csv('cleaned_data.csv', index=False)"
      ]
    },
    {
      "cell_type": "markdown",
      "id": "80f846bb-3f5e-4ca2-96c0-900728daca5a",
      "metadata": {
        "id": "80f846bb-3f5e-4ca2-96c0-900728daca5a",
        "tags": []
      },
      "source": [
        "# Bonus: Challenge 3: Analyzing Clean and Formated Data"
      ]
    },
    {
      "cell_type": "markdown",
      "id": "9021630e-cc90-446c-b5bd-264d6c864207",
      "metadata": {
        "id": "9021630e-cc90-446c-b5bd-264d6c864207"
      },
      "source": [
        "You have been tasked with analyzing the data to identify potential areas for improving customer retention and profitability. Your goal is to identify customers with a high policy claim amount and a low customer lifetime value.\n",
        "\n",
        "In the Pandas Lab, we only looked at high policy claim amounts because we couldn't look into low customer lifetime values. If we had tried to work with that column, we wouldn't have been able to because customer lifetime value wasn't clean and in its proper format. So after cleaning and formatting the data, let's get some more interesting insights!\n",
        "\n",
        "Instructions:\n",
        "\n",
        "- Review the statistics again for total claim amount and customer lifetime value to gain an understanding of the data.\n",
        "- To identify potential areas for improving customer retention and profitability, we want to focus on customers with a high policy claim amount and a low customer lifetime value. Consider customers with a high policy claim amount to be those in the top 25% of the total claim amount, and clients with a low customer lifetime value to be those in the bottom 25% of the customer lifetime value. Create a pandas DataFrame object that contains information about customers with a policy claim amount greater than the 75th percentile and a customer lifetime value in the bottom 25th percentile.\n",
        "- Use DataFrame methods to calculate summary statistics about the high policy claim amount and low customer lifetime value data. To do so, select both columns of the dataframe simultaneously and pass it to the `.describe()` method. This will give you descriptive statistics, such as mean, median, standard deviation, minimum and maximum values for both columns at the same time, allowing you to compare and analyze their characteristics."
      ]
    },
    {
      "cell_type": "code",
      "execution_count": null,
      "id": "211e82b5-461a-4d6f-8a23-4deccb84173c",
      "metadata": {
        "id": "211e82b5-461a-4d6f-8a23-4deccb84173c"
      },
      "outputs": [],
      "source": [
        "# Your code here\n",
        "\n",
        "import pandas as pd\n",
        "from functions import (load_data, clean_gender, clean_state, clean_education, clean_customer_lifetime_value,\n",
        "                       clean_number_of_open_complaints, clean_vehicle_class, handle_null_values, handle_duplicates,\n",
        "                       save_cleaned_data, review_statistics, identify_customers, calculate_summary_statistics)\n",
        "\n",
        "url = \"https://raw.githubusercontent.com/data-bootcamp-v4/data/main/file1.csv\"\n",
        "\n",
        "# Load data\n",
        "db = load_data(url)\n",
        "\n",
        "# Clean data\n",
        "db = clean_gender(db)\n",
        "db = clean_state(db)\n",
        "db = clean_education(db)\n",
        "db = clean_customer_lifetime_value(db)\n",
        "db = clean_number_of_open_complaints(db)\n",
        "db = clean_vehicle_class(db)\n",
        "\n",
        "# Handle null values\n",
        "db = handle_null_values(db)\n",
        "\n",
        "# Handle duplicates\n",
        "db = handle_duplicates(db)\n",
        "\n",
        "# Save cleaned data\n",
        "save_cleaned_data(db)\n",
        "\n",
        "# Review statistics\n",
        "stats = db[['total_claim_amount', 'customer_lifetime_value']].describe().round(2)\n",
        "print(\"Statistics for Total Claim Amount and Customer Lifetime Value:\")\n",
        "print(stats)\n",
        "\n",
        "# Identify customers with high policy claim amount and low customer lifetime value\n",
        "high_claim_threshold = db['total_claim_amount'].quantile(0.75)\n",
        "low_clv_threshold = db['customer_lifetime_value'].quantile(0.25)\n",
        "filtered_db = db[(db['total_claim_amount'] > high_claim_threshold) & (db['customer_lifetime_value'] < low_clv_threshold)]\n",
        "\n",
        "# Calculate summary statistics\n",
        "summary_stats = filtered_db[['total_claim_amount', 'customer_lifetime_value']].describe().round(2)\n",
        "print(\"Summary Statistics for High Policy Claim Amount and Low Customer Lifetime Value:\")\n",
        "print(summary_stats)\n",
        "\n",
        "# Save the cleaned dataset to a new CSV file\n",
        "db.to_csv('cleaned_data_challenge_3.csv', index=False)"
      ]
    }
  ],
  "metadata": {
    "colab": {
      "provenance": []
    },
    "kernelspec": {
      "display_name": "Python 3 (ipykernel)",
      "language": "python",
      "name": "python3"
    },
    "language_info": {
      "codemirror_mode": {
        "name": "ipython",
        "version": 3
      },
      "file_extension": ".py",
      "mimetype": "text/x-python",
      "name": "python",
      "nbconvert_exporter": "python",
      "pygments_lexer": "ipython3",
      "version": "3.12.4"
    }
  },
  "nbformat": 4,
  "nbformat_minor": 5
}
